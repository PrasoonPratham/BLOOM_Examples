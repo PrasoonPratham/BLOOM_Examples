{
 "cells": [
  {
   "cell_type": "code",
   "execution_count": 1,
   "metadata": {},
   "outputs": [
    {
     "data": {
      "application/vnd.jupyter.widget-view+json": {
       "model_id": "30ee74b2eacb401a9b5faf046007cd25",
       "version_major": 2,
       "version_minor": 0
      },
      "text/plain": [
       "VBox(children=(HTML(value='<center> <img\\nsrc=https://huggingface.co/front/assets/huggingface_logo-noborder.sv…"
      ]
     },
     "metadata": {},
     "output_type": "display_data"
    }
   ],
   "source": [
    "from huggingface_hub import notebook_login\n",
    "from huggingface_hub import HfFolder\n",
    "\n",
    "\n",
    "#enter your API key, you can make one for free on HF\n",
    "notebook_login()"
   ]
  },
  {
   "cell_type": "code",
   "execution_count": 2,
   "metadata": {},
   "outputs": [],
   "source": [
    "from huggingface_hub import InferenceApi\n",
    "\n",
    "inference = InferenceApi(\"bigscience/bloom\",token=HfFolder.get_token())"
   ]
  },
  {
   "cell_type": "code",
   "execution_count": 3,
   "metadata": {},
   "outputs": [],
   "source": [
    "import time\n",
    "\n",
    "def infer(prompt,\n",
    "          max_length = 32,\n",
    "          top_k = 0,\n",
    "          num_beams = 0,\n",
    "          no_repeat_ngram_size = 2,\n",
    "          top_p = 0.9,\n",
    "          seed=42,\n",
    "          temperature=0.7,\n",
    "          greedy_decoding = False,\n",
    "          return_full_text = False):\n",
    "    \n",
    "\n",
    "    top_k = None if top_k == 0 else top_k\n",
    "    do_sample = False if num_beams > 0 else not greedy_decoding\n",
    "    num_beams = None if (greedy_decoding or num_beams == 0) else num_beams\n",
    "    no_repeat_ngram_size = None if num_beams is None else no_repeat_ngram_size\n",
    "    top_p = None if num_beams else top_p\n",
    "    early_stopping = None if num_beams is None else num_beams > 0\n",
    "\n",
    "    params = {\n",
    "        \"max_new_tokens\": max_length,\n",
    "        \"top_k\": top_k,\n",
    "        \"top_p\": top_p,\n",
    "        \"temperature\": temperature,\n",
    "        \"do_sample\": do_sample,\n",
    "        \"seed\": seed,\n",
    "        \"early_stopping\":early_stopping,\n",
    "        \"no_repeat_ngram_size\":no_repeat_ngram_size,\n",
    "        \"num_beams\":num_beams,\n",
    "        \"return_full_text\":return_full_text\n",
    "    }\n",
    "    \n",
    "    s = time.time()\n",
    "    response = inference(prompt, params=params)\n",
    "    #print(response)\n",
    "    proc_time = time.time()-s\n",
    "    #print(f\"Processing time was {proc_time} seconds\")\n",
    "    return response"
   ]
  },
  {
   "cell_type": "code",
   "execution_count": 8,
   "metadata": {},
   "outputs": [
    {
     "ename": "KeyError",
     "evalue": "0",
     "output_type": "error",
     "traceback": [
      "\u001b[0;31m---------------------------------------------------------------------------\u001b[0m",
      "\u001b[0;31mKeyError\u001b[0m                                  Traceback (most recent call last)",
      "\u001b[1;32m/Users/pratham/Documents/GitHub/BLOOM_Examples/BLOOM_api_example.ipynb Cell 4\u001b[0m in \u001b[0;36m<cell line: 8>\u001b[0;34m()\u001b[0m\n\u001b[1;32m      <a href='vscode-notebook-cell:/Users/pratham/Documents/GitHub/BLOOM_Examples/BLOOM_api_example.ipynb#W4sZmlsZQ%3D%3D?line=0'>1</a>\u001b[0m prompt \u001b[39m=\u001b[39m \u001b[39m'''\u001b[39m\n\u001b[1;32m      <a href='vscode-notebook-cell:/Users/pratham/Documents/GitHub/BLOOM_Examples/BLOOM_api_example.ipynb#W4sZmlsZQ%3D%3D?line=1'>2</a>\u001b[0m \u001b[39mMe: How are you doing Big Chungus? What is up?\u001b[39m\n\u001b[1;32m      <a href='vscode-notebook-cell:/Users/pratham/Documents/GitHub/BLOOM_Examples/BLOOM_api_example.ipynb#W4sZmlsZQ%3D%3D?line=2'>3</a>\u001b[0m \u001b[39mChungus: I am very good sir, how are you?\u001b[39m\n\u001b[1;32m      <a href='vscode-notebook-cell:/Users/pratham/Documents/GitHub/BLOOM_Examples/BLOOM_api_example.ipynb#W4sZmlsZQ%3D%3D?line=3'>4</a>\u001b[0m \u001b[39mMe: Amazing, wanna get ice cream?\u001b[39m\n\u001b[1;32m      <a href='vscode-notebook-cell:/Users/pratham/Documents/GitHub/BLOOM_Examples/BLOOM_api_example.ipynb#W4sZmlsZQ%3D%3D?line=4'>5</a>\u001b[0m \u001b[39mChungus:\u001b[39m\n\u001b[1;32m      <a href='vscode-notebook-cell:/Users/pratham/Documents/GitHub/BLOOM_Examples/BLOOM_api_example.ipynb#W4sZmlsZQ%3D%3D?line=5'>6</a>\u001b[0m \u001b[39m'''\u001b[39m\n\u001b[1;32m      <a href='vscode-notebook-cell:/Users/pratham/Documents/GitHub/BLOOM_Examples/BLOOM_api_example.ipynb#W4sZmlsZQ%3D%3D?line=6'>7</a>\u001b[0m resp \u001b[39m=\u001b[39m infer(prompt, max_length\u001b[39m=\u001b[39m\u001b[39m64\u001b[39m)\n\u001b[0;32m----> <a href='vscode-notebook-cell:/Users/pratham/Documents/GitHub/BLOOM_Examples/BLOOM_api_example.ipynb#W4sZmlsZQ%3D%3D?line=7'>8</a>\u001b[0m resp \u001b[39m=\u001b[39m \u001b[39mdict\u001b[39m(resp[\u001b[39m0\u001b[39;49m])\n",
      "\u001b[0;31mKeyError\u001b[0m: 0"
     ]
    }
   ],
   "source": [
    "prompt = '''\n",
    "Me: How are you doing Big Chungus? What is up?\n",
    "Chungus: I am very good sir, how are you?\n",
    "Me: Amazing, wanna get ice cream?\n",
    "Chungus:\n",
    "'''\n",
    "resp = infer(prompt, max_length=64)\n",
    "resp = dict(resp[0])"
   ]
  },
  {
   "cell_type": "code",
   "execution_count": null,
   "metadata": {},
   "outputs": [],
   "source": [
    "from pprint import pprint\n",
    "text = str(resp.get('generated_text'))"
   ]
  },
  {
   "cell_type": "code",
   "execution_count": null,
   "metadata": {},
   "outputs": [
    {
     "name": "stdout",
     "output_type": "stream",
     "text": [
      "\n",
      "Me: How are you doing Big Chungus? What is up?\n",
      "Chungus: I am very good sir, how are you?\n",
      "Me: Amazing man, wanna get ice cream?\n",
      "Chungus:\n",
      "I'm thinking about it.\n",
      "Me: Ok, well, I gotta go, but I'll see you later, alright?\n",
      "Chungus:\n",
      "Alright.\n",
      "Me:\n",
      "Alright, see you later.\n",
      "I went to see my buddy, Big Chungus, who lives in the same apartment complex as me. He is a large, bald man with an extra large afro and a fat gut. He is a very loud and obnoxious person. I usually just call him, Big Chungus, because it is easier. I usually just go up to his door and knock. Sometimes, I go to his apartment and just hang out. I never know what to say to him. I am usually just as confused as he is.\n",
      "“Good afternoon,\n"
     ]
    }
   ],
   "source": [
    "lines = text.split('\\n')\n",
    "text_without_newlines = '\\n'.join(lines)\n",
    "\n",
    "print(text_without_newlines)"
   ]
  },
  {
   "cell_type": "code",
   "execution_count": null,
   "metadata": {},
   "outputs": [],
   "source": []
  }
 ],
 "metadata": {
  "kernelspec": {
   "display_name": "fastapi",
   "language": "python",
   "name": "python3"
  },
  "language_info": {
   "codemirror_mode": {
    "name": "ipython",
    "version": 3
   },
   "file_extension": ".py",
   "mimetype": "text/x-python",
   "name": "python",
   "nbconvert_exporter": "python",
   "pygments_lexer": "ipython3",
   "version": "3.10.5"
  },
  "orig_nbformat": 4,
  "vscode": {
   "interpreter": {
    "hash": "060dc1d9146e1caf40d991f228f7d28b9ac71b5e2a115751de5abf834a2aea8e"
   }
  }
 },
 "nbformat": 4,
 "nbformat_minor": 2
}
